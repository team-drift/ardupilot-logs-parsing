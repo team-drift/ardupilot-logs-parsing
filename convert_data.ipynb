{
 "cells": [
  {
   "cell_type": "code",
   "execution_count": 5,
   "metadata": {},
   "outputs": [],
   "source": [
    "import subprocess\n",
    "\n",
    "def extract_bin_to_csv(bin_file_path, output_csv_path, type):\n",
    "    # Command to run mavlogdump.py\n",
    "    command = ['mavlogdump.py', '--format', 'csv', '--types', type, bin_file_path]\n",
    "    \n",
    "    # Execute the command and redirect the output to a CSV file\n",
    "    with open(output_csv_path, 'w') as output_file:\n",
    "        subprocess.run(command, stdout=output_file)\n",
    "\n",
    "# Example usage\n",
    "bin_path = \"LOGS/00000001.BIN\"\n",
    "csv_path = \"converted-data/sample-ATT.csv\"\n",
    "type = 'ATT'\n",
    "# extract_bin_to_csv(bin_path, csv_path, type)"
   ]
  },
  {
   "cell_type": "code",
   "execution_count": 23,
   "metadata": {},
   "outputs": [],
   "source": [
    "from glob import glob\n",
    "import os\n",
    "\n",
    "bin_logs = sorted(glob(\"LOGS/*.BIN\"))\n",
    "to_num = lambda path: int(os.path.basename(path).split('.')[0])\n",
    "\n",
    "types = ['XKF1']\n",
    "for path, log_num in zip(bin_logs, map(to_num, bin_logs)):\n",
    "    log_directory = f\"converted-data/{log_num}\"\n",
    "    if not os.path.exists(log_directory):\n",
    "        os.makedirs(log_directory)\n",
    "    for type_ in types:\n",
    "        csv_path = f\"{log_directory}/{log_num}-{type_}.csv\"\n",
    "        extract_bin_to_csv(path, csv_path, type_)"
   ]
  }
 ],
 "metadata": {
  "kernelspec": {
   "display_name": "drones",
   "language": "python",
   "name": "python3"
  },
  "language_info": {
   "codemirror_mode": {
    "name": "ipython",
    "version": 3
   },
   "file_extension": ".py",
   "mimetype": "text/x-python",
   "name": "python",
   "nbconvert_exporter": "python",
   "pygments_lexer": "ipython3",
   "version": "3.11.4"
  },
  "orig_nbformat": 4
 },
 "nbformat": 4,
 "nbformat_minor": 2
}
